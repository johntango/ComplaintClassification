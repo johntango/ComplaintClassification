{
 "cells": [
  {
   "cell_type": "markdown",
   "metadata": {},
   "source": [
    "# Use OpenAI Embeddings"
   ]
  },
  {
   "cell_type": "code",
   "execution_count": 5,
   "metadata": {},
   "outputs": [],
   "source": [
    "import openai\n",
    "import pandas as pd\n",
    "import numpy as np\n",
    "import matplotlib.pyplot as plt\n",
    "import gradio as gr\n",
    "import json"
   ]
  },
  {
   "cell_type": "code",
   "execution_count": 2,
   "metadata": {},
   "outputs": [],
   "source": [
    "# get the API key from the json file\n",
    "with open('openai_key.json') as f:\n",
    "    data = json.load(f)\n",
    "    api_key = data['OPENAI_API_KEY']\n",
    "    openai.api_key = api_key"
   ]
  },
  {
   "cell_type": "code",
   "execution_count": 6,
   "metadata": {},
   "outputs": [
    {
     "name": "stdout",
     "output_type": "stream",
     "text": [
      "[array([-0.0278557 , -0.00233475,  0.01417311, ..., -0.00711237,\n",
      "       -0.01167539, -0.01110097])]\n",
      "(1, 1536)\n"
     ]
    }
   ],
   "source": [
    "# load the complaints from csv format into a dataframe\n",
    "complaint = \"This bank is terrrible\"\n",
    "# loop over complaints and get the embeddings\n",
    "embeddings = []\n",
    "model=\"text-embedding-ada-002\"\n",
    "vec = openai.Embedding.create(input = [complaint], model=model)['data'][0]['embedding']\n",
    "embeddings.append(np.array(vec))\n",
    "#print the embeddings and shape\n",
    "print(embeddings)\n",
    "print(np.array(embeddings).shape)"
   ]
  },
  {
   "cell_type": "markdown",
   "metadata": {},
   "source": [
    "# In Class - test how close the complaint is to the word \"bank\" and to a word or phrase that should be different"
   ]
  },
  {
   "cell_type": "markdown",
   "metadata": {},
   "source": [
    "# Tokenization is one of the first tasks we do with groups of words"
   ]
  },
  {
   "cell_type": "code",
   "execution_count": 15,
   "metadata": {},
   "outputs": [
    {
     "name": "stdout",
     "output_type": "stream",
     "text": [
      "[791, 4062, 14198, 39935, 27096, 927, 279, 16053, 5679, 13]\n",
      "The quick brown fox jumped over the lazy dog.\n"
     ]
    }
   ],
   "source": [
    "# using openai to tokenize the text\n",
    "import tiktoken\n",
    "text = \"The quick brown fox jumped over the lazy dog.\" \n",
    "\n",
    "encoding = tiktoken.encoding_for_model(\"gpt-3.5-turbo\")\n",
    "tokens = encoding.encode(text)\n",
    "print(tokens)\n",
    "text_new = encoding.decode(tokens)\n",
    "print(text_new)"
   ]
  }
 ],
 "metadata": {
  "kernelspec": {
   "display_name": "Python 3",
   "language": "python",
   "name": "python3"
  },
  "language_info": {
   "codemirror_mode": {
    "name": "ipython",
    "version": 3
   },
   "file_extension": ".py",
   "mimetype": "text/x-python",
   "name": "python",
   "nbconvert_exporter": "python",
   "pygments_lexer": "ipython3",
   "version": "3.11.4"
  },
  "orig_nbformat": 4
 },
 "nbformat": 4,
 "nbformat_minor": 2
}
